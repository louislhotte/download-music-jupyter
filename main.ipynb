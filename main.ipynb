{
 "cells": [
  {
   "cell_type": "code",
   "execution_count": 29,
   "metadata": {},
   "outputs": [],
   "source": [
    "import yt_dlp as youtube_dl\n",
    "import pandas as pd"
   ]
  },
  {
   "cell_type": "markdown",
   "metadata": {},
   "source": [
    "Youtube Download Script using ffmpeg"
   ]
  },
  {
   "cell_type": "code",
   "execution_count": 30,
   "metadata": {},
   "outputs": [],
   "source": [
    "def download_youtube_video_as_mp3(youtube_url, output_path):\n",
    "    ydl_opts = {\n",
    "        'format': 'bestaudio/best',\n",
    "        'postprocessors': [{\n",
    "            'key': 'FFmpegExtractAudio',\n",
    "            'preferredcodec': 'mp3',\n",
    "            'preferredquality': '192',\n",
    "        }],\n",
    "        'outtmpl': f'{output_path}/%(title)s.%(ext)s',\n",
    "        'noplaylist': True,\n",
    "    }\n",
    "\n",
    "    with youtube_dl.YoutubeDL(ydl_opts) as ydl:\n",
    "        ydl.download([youtube_url])"
   ]
  },
  {
   "cell_type": "markdown",
   "metadata": {},
   "source": [
    "For each music, call the function to download the mp3 file"
   ]
  },
  {
   "cell_type": "code",
   "execution_count": 34,
   "metadata": {},
   "outputs": [
    {
     "name": "stdout",
     "output_type": "stream",
     "text": [
      "[youtube] Extracting URL: https://www.youtube.com/watch?v=4A6_mBW03EI\n",
      "[youtube] 4A6_mBW03EI: Downloading webpage\n",
      "[youtube] 4A6_mBW03EI: Downloading ios player API JSON\n",
      "[youtube] 4A6_mBW03EI: Downloading m3u8 information\n",
      "[info] 4A6_mBW03EI: Downloading 1 format(s): 251\n",
      "[download] Destination: Output\\Carbonne - Imagine (Lyrics video).webm\n",
      "[download] 100% of    2.76MiB in 00:00:00 at 6.87MiB/s   \n",
      "[ExtractAudio] Destination: Output\\Carbonne - Imagine (Lyrics video).mp3\n",
      "Deleting original file Output\\Carbonne - Imagine (Lyrics video).webm (pass -k to keep)\n",
      "[youtube:tab] Extracting URL: https://www.youtube.com/watch?v=1b0Eh4iELqQ&list=RD4A6_mBW03EI&index=23\n",
      "[youtube:tab] Downloading just the video 1b0Eh4iELqQ because of --no-playlist\n",
      "[youtube] Extracting URL: https://www.youtube.com/watch?v=1b0Eh4iELqQ\n",
      "[youtube] 1b0Eh4iELqQ: Downloading webpage\n",
      "[youtube] 1b0Eh4iELqQ: Downloading ios player API JSON\n",
      "[youtube] 1b0Eh4iELqQ: Downloading m3u8 information\n",
      "[info] 1b0Eh4iELqQ: Downloading 1 format(s): 251\n",
      "[download] Destination: Output\\Casseurs Flowters - À l’heure où je me couche.webm\n",
      "[download] 100% of    3.29MiB in 00:00:00 at 5.62MiB/s   \n",
      "[ExtractAudio] Destination: Output\\Casseurs Flowters - À l’heure où je me couche.mp3\n",
      "Deleting original file Output\\Casseurs Flowters - À l’heure où je me couche.webm (pass -k to keep)\n",
      "[youtube:tab] Extracting URL: https://www.youtube.com/watch?v=4NOMFBRfaT0&list=RD4A6_mBW03EI&index=6\n",
      "[youtube:tab] Downloading just the video 4NOMFBRfaT0 because of --no-playlist\n",
      "[youtube] Extracting URL: https://www.youtube.com/watch?v=4NOMFBRfaT0\n",
      "[youtube] 4NOMFBRfaT0: Downloading webpage\n",
      "[youtube] 4NOMFBRfaT0: Downloading ios player API JSON\n",
      "[youtube] 4NOMFBRfaT0: Downloading m3u8 information\n",
      "[info] 4NOMFBRfaT0: Downloading 1 format(s): 251\n",
      "[download] Destination: Output\\VIDEOCLUB – Roi (Clip officiel).webm\n",
      "[download] 100% of    3.64MiB in 00:00:00 at 5.97MiB/s   \n",
      "[ExtractAudio] Destination: Output\\VIDEOCLUB – Roi (Clip officiel).mp3\n",
      "Deleting original file Output\\VIDEOCLUB – Roi (Clip officiel).webm (pass -k to keep)\n",
      "[youtube:tab] Extracting URL: https://www.youtube.com/watch?v=CwLppQOaNio&list=RD4A6_mBW03EI&index=26\n",
      "[youtube:tab] Downloading just the video CwLppQOaNio because of --no-playlist\n",
      "[youtube] Extracting URL: https://www.youtube.com/watch?v=CwLppQOaNio\n",
      "[youtube] CwLppQOaNio: Downloading webpage\n",
      "[youtube] CwLppQOaNio: Downloading ios player API JSON\n",
      "[youtube] CwLppQOaNio: Downloading m3u8 information\n",
      "[info] CwLppQOaNio: Downloading 1 format(s): 251\n",
      "[download] Destination: Output\\Rilès - Thank God (Prod. Rilès).webm\n",
      "[download] 100% of    3.43MiB in 00:00:00 at 5.70MiB/s   \n",
      "[ExtractAudio] Destination: Output\\Rilès - Thank God (Prod. Rilès).mp3\n",
      "Deleting original file Output\\Rilès - Thank God (Prod. Rilès).webm (pass -k to keep)\n",
      "[youtube:tab] Extracting URL: https://www.youtube.com/watch?v=XM0hh8OFO4M&list=RD4A6_mBW03EI&index=27\n",
      "[youtube:tab] Downloading just the video XM0hh8OFO4M because of --no-playlist\n",
      "[youtube] Extracting URL: https://www.youtube.com/watch?v=XM0hh8OFO4M\n",
      "[youtube] XM0hh8OFO4M: Downloading webpage\n",
      "[youtube] XM0hh8OFO4M: Downloading ios player API JSON\n",
      "[youtube] XM0hh8OFO4M: Downloading m3u8 information\n",
      "[info] XM0hh8OFO4M: Downloading 1 format(s): 251\n",
      "[download] Destination: Output\\Rilès - SHOULD I (Music Video).webm\n",
      "[download] 100% of    3.36MiB in 00:00:00 at 6.55MiB/s   \n",
      "[ExtractAudio] Destination: Output\\Rilès - SHOULD I (Music Video).mp3\n",
      "Deleting original file Output\\Rilès - SHOULD I (Music Video).webm (pass -k to keep)\n",
      "[youtube:tab] Extracting URL: https://www.youtube.com/watch?v=RMWBriHwVrI&list=RD4A6_mBW03EI&index=30\n",
      "[youtube:tab] Downloading just the video RMWBriHwVrI because of --no-playlist\n",
      "[youtube] Extracting URL: https://www.youtube.com/watch?v=RMWBriHwVrI\n",
      "[youtube] RMWBriHwVrI: Downloading webpage\n",
      "[youtube] RMWBriHwVrI: Downloading ios player API JSON\n",
      "[youtube] RMWBriHwVrI: Downloading m3u8 information\n",
      "[info] RMWBriHwVrI: Downloading 1 format(s): 251\n",
      "[download] Destination: Output\\Bon Entendeur vs Isabelle Pierre - Le Temps Est Bon (Clip Officiel).webm\n",
      "[download] 100% of    3.67MiB in 00:00:00 at 7.39MiB/s   \n",
      "[ExtractAudio] Destination: Output\\Bon Entendeur vs Isabelle Pierre - Le Temps Est Bon (Clip Officiel).mp3\n",
      "Deleting original file Output\\Bon Entendeur vs Isabelle Pierre - Le Temps Est Bon (Clip Officiel).webm (pass -k to keep)\n"
     ]
    }
   ],
   "source": [
    "if __name__ == \"__main__\":\n",
    "    df = pd.read_excel(\"Music-list.xlsx\", sheet_name=\"Music\")\n",
    "    musics = []\n",
    "    for index, row in df[0:].iterrows():\n",
    "        musics.append(row[df.columns[0]])\n",
    "\n",
    "    output_path = \"Output\"\n",
    "    for music in musics:\n",
    "        youtube_url = music\n",
    "        download_youtube_video_as_mp3(youtube_url, output_path)"
   ]
  }
 ],
 "metadata": {
  "kernelspec": {
   "display_name": "Python 3",
   "language": "python",
   "name": "python3"
  },
  "language_info": {
   "codemirror_mode": {
    "name": "ipython",
    "version": 3
   },
   "file_extension": ".py",
   "mimetype": "text/x-python",
   "name": "python",
   "nbconvert_exporter": "python",
   "pygments_lexer": "ipython3",
   "version": "3.11.1"
  }
 },
 "nbformat": 4,
 "nbformat_minor": 2
}
